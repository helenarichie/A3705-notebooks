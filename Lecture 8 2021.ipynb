{
 "cells": [
  {
   "cell_type": "code",
   "execution_count": 1,
   "metadata": {
    "scrolled": true
   },
   "outputs": [
    {
     "name": "stdout",
     "output_type": "stream",
     "text": [
      "Populating the interactive namespace from numpy and matplotlib\n"
     ]
    }
   ],
   "source": [
    "%pylab inline\n",
    "import sys\n",
    "sys.path.insert(0, \"/Users/helenarichie/Documents/Grad School/Semester 2/Classes/Astronomical Techniques/Notebooks/python\")\n",
    "pylab.rcParams.update({'font.size': 18})\n",
    "pylab.rcParams.update({'font.family': 'serif'})\n",
    "pylab.rcParams.update({'mathtext.default':'regular'})\n",
    "pylab.rcParams.update({'mathtext.fontset':'stixsans'})\n",
    "pylab.rcParams.update({'axes.linewidth': 1.5})\n",
    "pylab.rcParams.update({'xtick.direction':'in'})\n",
    "pylab.rcParams.update({'xtick.major.size': 5})\n",
    "pylab.rcParams.update({'xtick.major.width': 1.25 })\n",
    "pylab.rcParams.update({'xtick.minor.size': 2.5})\n",
    "pylab.rcParams.update({'xtick.minor.width': 1.25 })\n",
    "pylab.rcParams.update({'ytick.direction':'in'})\n",
    "pylab.rcParams.update({'ytick.major.size': 5})\n",
    "pylab.rcParams.update({'ytick.major.width': 1.25 })\n",
    "pylab.rcParams.update({'ytick.minor.size': 2.5})\n",
    "pylab.rcParams.update({'ytick.minor.width': 1.25 })"
   ]
  },
  {
   "cell_type": "code",
   "execution_count": 2,
   "metadata": {
    "scrolled": true
   },
   "outputs": [],
   "source": [
    "import scipy.stats as stats\n",
    "import numpy.random as random\n",
    "import scipy.interpolate as interpol\n",
    "import scipy.integrate as integrate"
   ]
  },
  {
   "cell_type": "markdown",
   "metadata": {},
   "source": [
    "# Test case for today: log-normal data\n",
    "\n",
    "Let's create $10^6$ values distributed as a log-normal: $x \\sim e^{N(0,1)}$"
   ]
  },
  {
   "cell_type": "code",
   "execution_count": 3,
   "metadata": {
    "scrolled": true
   },
   "outputs": [],
   "source": [
    "data = exp(random.randn(100_000))"
   ]
  },
  {
   "cell_type": "markdown",
   "metadata": {},
   "source": [
    "__In the below code box, plot a histogram of the array `data` as one figure (using `plt.figure()`) and a histogram of the log of the data as a second figure.  Use 100 bins for each plot.__"
   ]
  },
  {
   "cell_type": "code",
   "execution_count": 4,
   "metadata": {
    "scrolled": true
   },
   "outputs": [
    {
     "data": {
      "image/png": "[encoded data removed]",
      "text/plain": [
       "<Figure size 432x288 with 1 Axes>"
      ]
     },
     "metadata": {
      "needs_background": "light"
     },
     "output_type": "display_data"
    }
   ],
   "source": [
    "plt.hist(data, bins=100, range=(0, 10)) # median of 1 ~ exp(0) ~ Gaussian with zero mean\n",
    "plt.show()"
   ]
  },
  {
   "cell_type": "code",
   "execution_count": 5,
   "metadata": {},
   "outputs": [
    {
     "data": {
      "image/png": "[encoded data removed]",
      "text/plain": [
       "<Figure size 432x288 with 1 Axes>"
      ]
     },
     "metadata": {
      "needs_background": "light"
     },
     "output_type": "display_data"
    }
   ],
   "source": [
    "plt.hist(np.log(data), bins=100, range=(-5, 5)) # median of 1 ~ exp(0) ~ Gaussian with zero mean\n",
    "plt.show()"
   ]
  },
  {
   "cell_type": "markdown",
   "metadata": {},
   "source": [
    "Calculating the mean:"
   ]
  },
  {
   "cell_type": "code",
   "execution_count": 6,
   "metadata": {
    "scrolled": true
   },
   "outputs": [
    {
     "name": "stdout",
     "output_type": "stream",
     "text": [
      "1.6471351909882588\n",
      "1.6471351909882588\n"
     ]
    }
   ],
   "source": [
    "print(np.mean(data))\n",
    "print( data.mean() )"
   ]
  },
  {
   "cell_type": "markdown",
   "metadata": {},
   "source": [
    "Calculating the median:"
   ]
  },
  {
   "cell_type": "code",
   "execution_count": 7,
   "metadata": {
    "scrolled": true
   },
   "outputs": [
    {
     "name": "stdout",
     "output_type": "stream",
     "text": [
      "0.9956867230791243\n"
     ]
    }
   ],
   "source": [
    "print(np.median(data))"
   ]
  },
  {
   "cell_type": "markdown",
   "metadata": {},
   "source": [
    "Calculating the mode:"
   ]
  },
  {
   "cell_type": "code",
   "execution_count": 8,
   "metadata": {
    "scrolled": true
   },
   "outputs": [
    {
     "name": "stdout",
     "output_type": "stream",
     "text": [
      "Unrounded: ModeResult(mode=array([0.00833477]), count=array([1]))\n",
      "Rounded: ModeResult(mode=array([0.44]), count=array([705]))\n"
     ]
    }
   ],
   "source": [
    "print(f'Unrounded: {stats.mode(data)}')\n",
    "\n",
    "data_r = np.round(data, decimals=2)\n",
    "print(f'Rounded: {stats.mode(data_r)}')"
   ]
  },
  {
   "cell_type": "code",
   "execution_count": 9,
   "metadata": {
    "scrolled": true
   },
   "outputs": [
    {
     "name": "stdout",
     "output_type": "stream",
     "text": [
      "0.44000000000000006\n"
     ]
    }
   ],
   "source": [
    "bins = np.linspace(-0.005,10.005,1002)\n",
    "counts,edges=np.histogram(data,bins=bins)\n",
    "whmax=np.argmax(counts)\n",
    "mode=(edges[whmax]+edges[whmax+1])/2\n",
    "print(mode)"
   ]
  },
  {
   "cell_type": "markdown",
   "metadata": {},
   "source": [
    "## Creating a mode function\n",
    "\n",
    "Let's define a function which can calculate the mode for any binning we might choose at the time we run it:"
   ]
  },
  {
   "cell_type": "code",
   "execution_count": 10,
   "metadata": {
    "scrolled": true
   },
   "outputs": [],
   "source": [
    "def mode2(data,**kwargs):\n",
    "# note: provide bins and (optionally) range keywords \n",
    "# as used in np.histogram to not use the\n",
    "# defaults of np.histogram (10 bins, full range)\n",
    "    counts,edges=np.histogram(data,**kwargs)\n",
    "    whmax=np.argmax(counts)\n",
    "    mode=(edges[whmax]+edges[whmax+1])/2\n",
    "    return(mode)"
   ]
  },
  {
   "cell_type": "markdown",
   "metadata": {},
   "source": [
    "__Use the `mode2` function to calculate the mode for at least 3 different binnings of the data (differing in bin sizes).__  Since we used `**kwargs` we can include the `bins=` keyword within the `mode2` function call, and it gets passed to `np.histogram`."
   ]
  },
  {
   "cell_type": "code",
   "execution_count": 11,
   "metadata": {
    "scrolled": false
   },
   "outputs": [
    {
     "name": "stdout",
     "output_type": "stream",
     "text": [
      "0.35000000000000003 0.35 0.34500000000000003\n"
     ]
    },
    {
     "data": {
      "image/png": "[encoded data removed]",
      "text/plain": [
       "<Figure size 576x432 with 1 Axes>"
      ]
     },
     "metadata": {
      "needs_background": "light"
     },
     "output_type": "display_data"
    }
   ],
   "source": [
    "bin1, bin2, bin3 = 100, 500, 1000\n",
    "mode_1 = mode2(data, bins=bin1, range=(0, 10))\n",
    "mode_2 = mode2(data, bins=bin2, range=(0, 10))\n",
    "mode_3 = mode2(data, bins=bin3, range=(0, 10))\n",
    "print(mode_1, mode_2, mode_3)\n",
    "fig = plt.figure(figsize(8, 6))\n",
    "plt.hist(data, bin1, range=(0, 10), label=f\"nbin={bin1}\")\n",
    "plt.hist(data, bin2, range=(0, 10), label=f\"nbin={bin2}\")\n",
    "plt.hist(data, bin3, range=(0, 10), label=f\"nbin={bin3}\")\n",
    "plt.legend()\n",
    "plt.show()"
   ]
  },
  {
   "cell_type": "markdown",
   "metadata": {},
   "source": [
    "# Calculating measures of scale\n",
    "\n",
    "First, the standard deviation:\n"
   ]
  },
  {
   "cell_type": "code",
   "execution_count": 12,
   "metadata": {
    "scrolled": true
   },
   "outputs": [
    {
     "name": "stdout",
     "output_type": "stream",
     "text": [
      "2.1236842486393908 2.1236948671402724\n",
      "1.000718045593478 1.0007230492212333\n"
     ]
    }
   ],
   "source": [
    "print(np.std(data), np.std(data,ddof=1))\n",
    "print(np.std(log(data)), np.std(log(data),ddof=1))"
   ]
  },
  {
   "cell_type": "markdown",
   "metadata": {},
   "source": [
    "### Now, the mean absolute deviation.  \n",
    "\n",
    "__Discuss with your group: why do these values agree or not with the standard deviation?__\n"
   ]
  },
  {
   "cell_type": "code",
   "execution_count": 13,
   "metadata": {
    "scrolled": true
   },
   "outputs": [
    {
     "name": "stdout",
     "output_type": "stream",
     "text": [
      "Normalized Mean Absolute Deviation: 1.58115\n",
      "Normalized Mean Absolute Deviation of log(data): 1.00229\n"
     ]
    }
   ],
   "source": [
    "normmeanabsdev = np.mean(np.abs(data-data.mean())) / 0.7979\n",
    "mnlog = np.mean(np.log(data))\n",
    "normmeanabsdev_log = np.mean(np.abs( np.log(data)-mnlog)) / 0.7979\n",
    "\n",
    "print(f'Normalized Mean Absolute Deviation: {normmeanabsdev:.5f}')\n",
    "print(f'Normalized Mean Absolute Deviation of log(data): {normmeanabsdev_log:.5f}')"
   ]
  },
  {
   "cell_type": "markdown",
   "metadata": {},
   "source": [
    "### Calculating the MAD:\n",
    "\n",
    "__Discuss with your group: why do these values agree or not with the standard deviation?__\n"
   ]
  },
  {
   "cell_type": "code",
   "execution_count": 14,
   "metadata": {
    "scrolled": true
   },
   "outputs": [
    {
     "name": "stdout",
     "output_type": "stream",
     "text": [
      "Normalized Median Absolute Deviation: 0.88956\n",
      "Normalized Median Absolute Deviation of log(data): 1.00367\n"
     ]
    }
   ],
   "source": [
    "meddata=np.median(data)\n",
    "normmad = np.median(np.abs(data-meddata))/0.6745\n",
    "normmad_log = np.median(abs(np.log(data)-np.log(meddata)))/0.6745\n",
    "\n",
    "print(f'Normalized Median Absolute Deviation: {normmad:.5f}')\n",
    "print(f'Normalized Median Absolute Deviation of log(data): {normmad_log:.5f}')"
   ]
  },
  {
   "cell_type": "markdown",
   "metadata": {},
   "source": [
    "### Calculating the IQR:\n",
    "\n",
    "__Discuss with your group: why do these values agree or not with the standard deviation?__"
   ]
  },
  {
   "cell_type": "code",
   "execution_count": 15,
   "metadata": {
    "scrolled": true
   },
   "outputs": [
    {
     "name": "stdout",
     "output_type": "stream",
     "text": [
      "Normalized IQR: 1.08215\n",
      "Normalized IQR of log(data): 1.00431\n"
     ]
    }
   ],
   "source": [
    "d25,d75 = np.percentile(data,[25,75])\n",
    "normiqr = (d75-d25)/1.349\n",
    "normiqr_log = (np.log(d75)-np.log(d25))/1.349\n",
    "\n",
    "\n",
    "print(f'Normalized IQR: {normiqr:.5f}')\n",
    "print(f'Normalized IQR of log(data): {normiqr_log:.5f}')"
   ]
  },
  {
   "cell_type": "markdown",
   "metadata": {},
   "source": [
    "# Results when averaging data together"
   ]
  },
  {
   "cell_type": "code",
   "execution_count": 19,
   "metadata": {
    "scrolled": true
   },
   "outputs": [],
   "source": [
    "nsims=int(1E5)\n",
    "navg=100\n",
    "data=random.randn(nsims,navg)\n",
    "nrange=(-2, 2)\n",
    "nbins = int(100/0.01)\n",
    "\n",
    "# average each set of navg values\n",
    "means=np.mean(data,axis=1)"
   ]
  },
  {
   "cell_type": "markdown",
   "metadata": {},
   "source": [
    "- __Using the below code block, plot a histogram of the distribution of the means from each simulation, with binsize 0.01, over the range from -2 to +2 (what should you set the `bins` and `range` keywords to be for that?)__\n",
    "\n",
    "- __Determine the standard deviation of the array of means__"
   ]
  },
  {
   "cell_type": "code",
   "execution_count": 21,
   "metadata": {
    "scrolled": false
   },
   "outputs": [
    {
     "data": {
      "text/plain": [
       "(array([0., 0., 0., ..., 0., 0., 0.]),\n",
       " array([-2.    , -1.9996, -1.9992, ...,  1.9992,  1.9996,  2.    ]),\n",
       " <BarContainer object of 10000 artists>)"
      ]
     },
     "execution_count": 21,
     "metadata": {},
     "output_type": "execute_result"
    },
    {
     "data": {
      "image/png": "[encoded data removed]",
      "text/plain": [
       "<Figure size 576x432 with 1 Axes>"
      ]
     },
     "metadata": {
      "needs_background": "light"
     },
     "output_type": "display_data"
    }
   ],
   "source": [
    "nsims=int(1E5)\n",
    "navg=9\n",
    "data1=random.randn(nsims,navg)\n",
    "\n",
    "# average each set of navg values\n",
    "means1=np.mean(data1,axis=1)\n",
    "plt.hist(means, range=nrange, bins=nbins)\n",
    "plt.hist(means1, range=nrange, bins=nbins)"
   ]
  },
  {
   "cell_type": "markdown",
   "metadata": {},
   "source": [
    "- __Now, in the above code box, create a second set of simulations with `navg` = 9.  Plot the histogram of results from these simulations on top of the histogram for averaging 100 measurements.__\n",
    "\n",
    "__Discuss with your group: How do you explain the differences between the results (both qualitatively and quantitatively)? How does the scatter of the means scale with `navg`?__"
   ]
  }
 ],
 "metadata": {
  "anaconda-cloud": {},
  "kernelspec": {
   "display_name": "Python 3",
   "language": "python",
   "name": "python3"
  },
  "language_info": {
   "codemirror_mode": {
    "name": "ipython",
    "version": 3
   },
   "file_extension": ".py",
   "mimetype": "text/x-python",
   "name": "python",
   "nbconvert_exporter": "python",
   "pygments_lexer": "ipython3",
   "version": "3.8.5"
  }
 },
 "nbformat": 4,
 "nbformat_minor": 1
}
